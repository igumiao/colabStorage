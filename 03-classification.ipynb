{
 "cells": [
  {
   "cell_type": "markdown",
   "metadata": {},
   "source": [
    "# Text Classification in scikit-learn"
   ]
  },
  {
   "cell_type": "markdown",
   "metadata": {},
   "source": [
    "First, let's get the corpus we will be using, which is included in NLTK. You will need NLTK and Scikit-learn (as well as their dependencies, in particular scipy and numpy) to run this code."
   ]
  },
  {
   "cell_type": "code",
   "execution_count": 3,
   "metadata": {
    "scrolled": true
   },
   "outputs": [
    {
     "name": "stderr",
     "output_type": "stream",
     "text": [
      "[nltk_data] Downloading package reuters to\n",
      "[nltk_data]     C:\\Users\\10762\\AppData\\Roaming\\nltk_data...\n",
      "[nltk_data]   Package reuters is already up-to-date!\n"
     ]
    }
   ],
   "source": [
    "import nltk\n",
    "nltk.download(\"reuters\") # if necessary\n",
    "from nltk.corpus import reuters\n"
   ]
  },
  {
   "cell_type": "markdown",
   "metadata": {},
   "source": [
    "The NLTK sample of the Reuters Corpus contains 10,788 news documents totaling 1.3 million words. The documents have been classified into 90 topics, and is divided into a training and test sets, a split which we will preserve here. Let's look at the counts of texts the various categories."
   ]
  },
  {
   "cell_type": "code",
   "execution_count": 4,
   "metadata": {},
   "outputs": [
    {
     "name": "stdout",
     "output_type": "stream",
     "text": [
      "acq 2369\n",
      "alum 58\n",
      "barley 51\n",
      "bop 105\n",
      "carcass 68\n",
      "castor-oil 2\n",
      "cocoa 73\n",
      "coconut 6\n",
      "coconut-oil 7\n",
      "coffee 139\n",
      "copper 65\n",
      "copra-cake 3\n",
      "corn 237\n",
      "cotton 59\n",
      "cotton-oil 3\n",
      "cpi 97\n",
      "cpu 4\n",
      "crude 578\n",
      "dfl 3\n",
      "dlr 175\n",
      "dmk 14\n",
      "earn 3964\n",
      "fuel 23\n",
      "gas 54\n",
      "gnp 136\n",
      "gold 124\n",
      "grain 582\n",
      "groundnut 9\n",
      "groundnut-oil 2\n",
      "heat 19\n",
      "hog 22\n",
      "housing 20\n",
      "income 16\n",
      "instal-debt 6\n",
      "interest 478\n",
      "ipi 53\n",
      "iron-steel 54\n",
      "jet 5\n",
      "jobs 67\n",
      "l-cattle 8\n",
      "lead 29\n",
      "lei 15\n",
      "lin-oil 2\n",
      "livestock 99\n",
      "lumber 16\n",
      "meal-feed 49\n",
      "money-fx 717\n",
      "money-supply 174\n",
      "naphtha 6\n",
      "nat-gas 105\n",
      "nickel 9\n",
      "nkr 3\n",
      "nzdlr 4\n",
      "oat 14\n",
      "oilseed 171\n",
      "orange 27\n",
      "palladium 3\n",
      "palm-oil 40\n",
      "palmkernel 3\n",
      "pet-chem 32\n",
      "platinum 12\n",
      "potato 6\n",
      "propane 6\n",
      "rand 3\n",
      "rape-oil 8\n",
      "rapeseed 27\n",
      "reserves 73\n",
      "retail 25\n",
      "rice 59\n",
      "rubber 49\n",
      "rye 2\n",
      "ship 286\n",
      "silver 29\n",
      "sorghum 34\n",
      "soy-meal 26\n",
      "soy-oil 25\n",
      "soybean 111\n",
      "strategic-metal 27\n",
      "sugar 162\n",
      "sun-meal 2\n",
      "sun-oil 7\n",
      "sunseed 16\n",
      "tea 13\n",
      "tin 30\n",
      "trade 485\n",
      "veg-oil 124\n",
      "wheat 283\n",
      "wpi 29\n",
      "yen 59\n",
      "zinc 34\n"
     ]
    }
   ],
   "source": [
    "for category in reuters.categories():\n",
    "    print (category, len(reuters.fileids(category)))"
   ]
  },
  {
   "cell_type": "markdown",
   "metadata": {},
   "source": [
    "Many of the documents in the corpus are tagged with multiple labels; in this situation, a straightforward approach is to build a classifier for each label. Let's build a classifier to distinguish the most common topic in the corpus, \"acq\" (acqusitions). First, here's some code to build the dataset in preparation for classification using scikit-learn."
   ]
  },
  {
   "cell_type": "code",
   "execution_count": 5,
   "metadata": {
    "collapsed": true
   },
   "outputs": [],
   "source": [
    "from sklearn.feature_extraction import DictVectorizer\n",
    "\n",
    "def get_BOW(text):\n",
    "    BOW = {}\n",
    "    for word in text:\n",
    "        BOW[word] = BOW.get(word,0) + 1\n",
    "    return BOW\n",
    "\n",
    "def prepare_reuters_data(topic,feature_extractor):\n",
    "    training_set = []\n",
    "    training_classifications = []\n",
    "    test_set = []\n",
    "    test_classifications = []\n",
    "    for file_id in reuters.fileids():\n",
    "        feature_dict = feature_extractor(reuters.words(file_id))   \n",
    "        if file_id.startswith(\"train\"):\n",
    "            training_set.append(feature_dict)\n",
    "            if topic in reuters.categories(file_id):\n",
    "                training_classifications.append(topic)\n",
    "            else:\n",
    "                training_classifications.append(\"not \" + topic)\n",
    "        else:\n",
    "            test_set.append(feature_dict)\n",
    "            if topic in reuters.categories(file_id):\n",
    "                test_classifications.append(topic)\n",
    "            else:\n",
    "                test_classifications.append(\"not \" + topic)        \n",
    "    vectorizer = DictVectorizer()\n",
    "    training_data = vectorizer.fit_transform(training_set)\n",
    "    test_data = vectorizer.transform(test_set)\n",
    "    return training_data,training_classifications,test_data,test_classifications\n",
    "\n",
    "trn_data,trn_classes,test_data,test_classes = prepare_reuters_data(\"acq\",get_BOW)"
   ]
  },
  {
   "cell_type": "markdown",
   "metadata": {},
   "source": [
    "The above code builds a sparse bag of words feature representation (a Python dictionary) for each text in the corpus (which is pre-tokenized), and places it to the appropriate list depending on whether it is testing or training; a corresponding list of correct classifications is created at the same time. The scikit-learn DictVectorizer class converts Python dictionaries into the scipy sparse matrices which Scikit-learn uses; for the training set, use the fit_transform method (which fixes the total number of features in the model), and for the test set, use transform method (which ignores any features in the test set that weren't in the training set). Next, let's prepare some classifiers to test..."
   ]
  },
  {
   "cell_type": "code",
   "execution_count": 6,
   "metadata": {
    "collapsed": true
   },
   "outputs": [],
   "source": [
    "from sklearn.neighbors import KNeighborsClassifier\n",
    "from sklearn.tree import DecisionTreeClassifier\n",
    "from sklearn.ensemble import RandomForestClassifier\n",
    "from sklearn.naive_bayes import MultinomialNB\n",
    "from sklearn.svm import LinearSVC\n",
    "from sklearn.linear_model import LogisticRegression\n",
    "\n",
    "clfs = [KNeighborsClassifier(),DecisionTreeClassifier(),RandomForestClassifier(),\n",
    "        MultinomialNB(),LinearSVC(),LogisticRegression()]\n"
   ]
  },
  {
   "cell_type": "markdown",
   "metadata": {},
   "source": [
    "To start, we are using default settings for all these classifiers. Let's start by doing 10-fold cross validation on the training set, and looking at the accuracy, recall, precision, and f1-score for each (be patient, this may take a while to complete)..."
   ]
  },
  {
   "cell_type": "code",
   "execution_count": 7,
   "metadata": {},
   "outputs": [
    {
     "name": "stdout",
     "output_type": "stream",
     "text": [
      "KNeighborsClassifier()\n",
      "accuracy\n",
      "0.9258591839361565\n",
      "              precision    recall  f1-score   support\n",
      "\n",
      "         acq       0.85      0.79      0.82      1650\n",
      "     not acq       0.95      0.96      0.95      6119\n",
      "\n",
      "    accuracy                           0.93      7769\n",
      "   macro avg       0.90      0.88      0.89      7769\n",
      "weighted avg       0.92      0.93      0.92      7769\n",
      "\n",
      "DecisionTreeClassifier()\n",
      "accuracy\n",
      "0.9361565195005792\n",
      "              precision    recall  f1-score   support\n",
      "\n",
      "         acq       0.85      0.84      0.85      1650\n",
      "     not acq       0.96      0.96      0.96      6119\n",
      "\n",
      "    accuracy                           0.94      7769\n",
      "   macro avg       0.91      0.90      0.90      7769\n",
      "weighted avg       0.94      0.94      0.94      7769\n",
      "\n",
      "RandomForestClassifier()\n",
      "accuracy\n",
      "0.9622860084953019\n",
      "              precision    recall  f1-score   support\n",
      "\n",
      "         acq       0.94      0.88      0.91      1650\n",
      "     not acq       0.97      0.98      0.98      6119\n",
      "\n",
      "    accuracy                           0.96      7769\n",
      "   macro avg       0.95      0.93      0.94      7769\n",
      "weighted avg       0.96      0.96      0.96      7769\n",
      "\n",
      "MultinomialNB()\n",
      "accuracy\n",
      "0.9549491569056506\n",
      "              precision    recall  f1-score   support\n",
      "\n",
      "         acq       0.84      0.98      0.90      1650\n",
      "     not acq       0.99      0.95      0.97      6119\n",
      "\n",
      "    accuracy                           0.95      7769\n",
      "   macro avg       0.92      0.96      0.94      7769\n",
      "weighted avg       0.96      0.95      0.96      7769\n",
      "\n"
     ]
    },
    {
     "name": "stderr",
     "output_type": "stream",
     "text": [
      "c:\\Users\\10762\\anaconda3\\envs\\Python310\\lib\\site-packages\\sklearn\\svm\\_base.py:1249: ConvergenceWarning: Liblinear failed to converge, increase the number of iterations.\n",
      "  warnings.warn(\n",
      "c:\\Users\\10762\\anaconda3\\envs\\Python310\\lib\\site-packages\\sklearn\\svm\\_base.py:1249: ConvergenceWarning: Liblinear failed to converge, increase the number of iterations.\n",
      "  warnings.warn(\n",
      "c:\\Users\\10762\\anaconda3\\envs\\Python310\\lib\\site-packages\\sklearn\\svm\\_base.py:1249: ConvergenceWarning: Liblinear failed to converge, increase the number of iterations.\n",
      "  warnings.warn(\n",
      "c:\\Users\\10762\\anaconda3\\envs\\Python310\\lib\\site-packages\\sklearn\\svm\\_base.py:1249: ConvergenceWarning: Liblinear failed to converge, increase the number of iterations.\n",
      "  warnings.warn(\n",
      "c:\\Users\\10762\\anaconda3\\envs\\Python310\\lib\\site-packages\\sklearn\\svm\\_base.py:1249: ConvergenceWarning: Liblinear failed to converge, increase the number of iterations.\n",
      "  warnings.warn(\n",
      "c:\\Users\\10762\\anaconda3\\envs\\Python310\\lib\\site-packages\\sklearn\\svm\\_base.py:1249: ConvergenceWarning: Liblinear failed to converge, increase the number of iterations.\n",
      "  warnings.warn(\n",
      "c:\\Users\\10762\\anaconda3\\envs\\Python310\\lib\\site-packages\\sklearn\\svm\\_base.py:1249: ConvergenceWarning: Liblinear failed to converge, increase the number of iterations.\n",
      "  warnings.warn(\n",
      "c:\\Users\\10762\\anaconda3\\envs\\Python310\\lib\\site-packages\\sklearn\\svm\\_base.py:1249: ConvergenceWarning: Liblinear failed to converge, increase the number of iterations.\n",
      "  warnings.warn(\n",
      "c:\\Users\\10762\\anaconda3\\envs\\Python310\\lib\\site-packages\\sklearn\\svm\\_base.py:1249: ConvergenceWarning: Liblinear failed to converge, increase the number of iterations.\n",
      "  warnings.warn(\n",
      "c:\\Users\\10762\\anaconda3\\envs\\Python310\\lib\\site-packages\\sklearn\\svm\\_base.py:1249: ConvergenceWarning: Liblinear failed to converge, increase the number of iterations.\n",
      "  warnings.warn(\n"
     ]
    },
    {
     "name": "stdout",
     "output_type": "stream",
     "text": [
      "LinearSVC()\n",
      "accuracy\n",
      "0.9769597116746042\n",
      "              precision    recall  f1-score   support\n",
      "\n",
      "         acq       0.95      0.94      0.95      1650\n",
      "     not acq       0.98      0.99      0.99      6119\n",
      "\n",
      "    accuracy                           0.98      7769\n",
      "   macro avg       0.97      0.96      0.97      7769\n",
      "weighted avg       0.98      0.98      0.98      7769\n",
      "\n",
      "LogisticRegression()\n",
      "accuracy\n",
      "0.9765735615909383\n",
      "              precision    recall  f1-score   support\n",
      "\n",
      "         acq       0.95      0.94      0.94      1650\n",
      "     not acq       0.98      0.99      0.99      6119\n",
      "\n",
      "    accuracy                           0.98      7769\n",
      "   macro avg       0.97      0.96      0.96      7769\n",
      "weighted avg       0.98      0.98      0.98      7769\n",
      "\n"
     ]
    }
   ],
   "source": [
    "from sklearn import model_selection\n",
    "#from sklearn.model_selection import train_test_split\n",
    "from sklearn.metrics import accuracy_score, classification_report\n",
    "\n",
    "def do_multiple_10foldcrossvalidation(clfs,data,classifications):\n",
    "    for clf in clfs:\n",
    "        predictions = model_selection.cross_val_predict(clf, data,classifications, cv=10)\n",
    "        print (clf)\n",
    "        print (\"accuracy\")\n",
    "        print (accuracy_score(classifications,predictions))\n",
    "        print (classification_report(classifications,predictions))\n",
    "        \n",
    "do_multiple_10foldcrossvalidation(clfs,trn_data,trn_classes)\n"
   ]
  },
  {
   "cell_type": "markdown",
   "metadata": {},
   "source": [
    "In this case, the classifiers are not obviously biased towards a particular task, so accuracy and f-score are nearly the same. The numbers are generally quite high, indicating that it is a fairly easy classification task. In terms of the best classifier, the clear standouts here are the SVM and Logistic Regression classifiers, while <i>k</i>NN is clearly the worst. One reason <i>k</i>NN might be doing poorly is that it is particularly susceptible to a noisy feature space with dimensions that are irrelevant to the task. Let's try to improve performance by removing stopwords and doing lowercasing"
   ]
  },
  {
   "cell_type": "code",
   "execution_count": 8,
   "metadata": {},
   "outputs": [
    {
     "name": "stderr",
     "output_type": "stream",
     "text": [
      "[nltk_data] Downloading package stopwords to\n",
      "[nltk_data]     C:\\Users\\10762\\AppData\\Roaming\\nltk_data...\n",
      "[nltk_data]   Package stopwords is already up-to-date!\n"
     ]
    },
    {
     "name": "stdout",
     "output_type": "stream",
     "text": [
      "KNeighborsClassifier()\n",
      "accuracy\n",
      "0.9387308533916849\n",
      "              precision    recall  f1-score   support\n",
      "\n",
      "         acq       0.90      0.80      0.85      1650\n",
      "     not acq       0.95      0.98      0.96      6119\n",
      "\n",
      "    accuracy                           0.94      7769\n",
      "   macro avg       0.92      0.89      0.90      7769\n",
      "weighted avg       0.94      0.94      0.94      7769\n",
      "\n",
      "DecisionTreeClassifier()\n",
      "accuracy\n",
      "0.9391170034753508\n",
      "              precision    recall  f1-score   support\n",
      "\n",
      "         acq       0.86      0.86      0.86      1650\n",
      "     not acq       0.96      0.96      0.96      6119\n",
      "\n",
      "    accuracy                           0.94      7769\n",
      "   macro avg       0.91      0.91      0.91      7769\n",
      "weighted avg       0.94      0.94      0.94      7769\n",
      "\n",
      "RandomForestClassifier()\n",
      "accuracy\n",
      "0.9658900759428498\n",
      "              precision    recall  f1-score   support\n",
      "\n",
      "         acq       0.94      0.90      0.92      1650\n",
      "     not acq       0.97      0.98      0.98      6119\n",
      "\n",
      "    accuracy                           0.97      7769\n",
      "   macro avg       0.95      0.94      0.95      7769\n",
      "weighted avg       0.97      0.97      0.97      7769\n",
      "\n",
      "MultinomialNB()\n",
      "accuracy\n",
      "0.9561076071566482\n",
      "              precision    recall  f1-score   support\n",
      "\n",
      "         acq       0.84      0.98      0.90      1650\n",
      "     not acq       0.99      0.95      0.97      6119\n",
      "\n",
      "    accuracy                           0.96      7769\n",
      "   macro avg       0.92      0.96      0.94      7769\n",
      "weighted avg       0.96      0.96      0.96      7769\n",
      "\n"
     ]
    },
    {
     "name": "stderr",
     "output_type": "stream",
     "text": [
      "c:\\Users\\10762\\anaconda3\\envs\\Python310\\lib\\site-packages\\sklearn\\svm\\_base.py:1249: ConvergenceWarning: Liblinear failed to converge, increase the number of iterations.\n",
      "  warnings.warn(\n",
      "c:\\Users\\10762\\anaconda3\\envs\\Python310\\lib\\site-packages\\sklearn\\svm\\_base.py:1249: ConvergenceWarning: Liblinear failed to converge, increase the number of iterations.\n",
      "  warnings.warn(\n",
      "c:\\Users\\10762\\anaconda3\\envs\\Python310\\lib\\site-packages\\sklearn\\svm\\_base.py:1249: ConvergenceWarning: Liblinear failed to converge, increase the number of iterations.\n",
      "  warnings.warn(\n",
      "c:\\Users\\10762\\anaconda3\\envs\\Python310\\lib\\site-packages\\sklearn\\svm\\_base.py:1249: ConvergenceWarning: Liblinear failed to converge, increase the number of iterations.\n",
      "  warnings.warn(\n",
      "c:\\Users\\10762\\anaconda3\\envs\\Python310\\lib\\site-packages\\sklearn\\svm\\_base.py:1249: ConvergenceWarning: Liblinear failed to converge, increase the number of iterations.\n",
      "  warnings.warn(\n",
      "c:\\Users\\10762\\anaconda3\\envs\\Python310\\lib\\site-packages\\sklearn\\svm\\_base.py:1249: ConvergenceWarning: Liblinear failed to converge, increase the number of iterations.\n",
      "  warnings.warn(\n",
      "c:\\Users\\10762\\anaconda3\\envs\\Python310\\lib\\site-packages\\sklearn\\svm\\_base.py:1249: ConvergenceWarning: Liblinear failed to converge, increase the number of iterations.\n",
      "  warnings.warn(\n",
      "c:\\Users\\10762\\anaconda3\\envs\\Python310\\lib\\site-packages\\sklearn\\svm\\_base.py:1249: ConvergenceWarning: Liblinear failed to converge, increase the number of iterations.\n",
      "  warnings.warn(\n",
      "c:\\Users\\10762\\anaconda3\\envs\\Python310\\lib\\site-packages\\sklearn\\svm\\_base.py:1249: ConvergenceWarning: Liblinear failed to converge, increase the number of iterations.\n",
      "  warnings.warn(\n"
     ]
    },
    {
     "name": "stdout",
     "output_type": "stream",
     "text": [
      "LinearSVC()\n",
      "accuracy\n",
      "0.9788904620929334\n",
      "              precision    recall  f1-score   support\n",
      "\n",
      "         acq       0.95      0.95      0.95      1650\n",
      "     not acq       0.99      0.99      0.99      6119\n",
      "\n",
      "    accuracy                           0.98      7769\n",
      "   macro avg       0.97      0.97      0.97      7769\n",
      "weighted avg       0.98      0.98      0.98      7769\n",
      "\n",
      "LogisticRegression()\n",
      "accuracy\n",
      "0.9794053288711546\n",
      "              precision    recall  f1-score   support\n",
      "\n",
      "         acq       0.96      0.95      0.95      1650\n",
      "     not acq       0.99      0.99      0.99      6119\n",
      "\n",
      "    accuracy                           0.98      7769\n",
      "   macro avg       0.97      0.97      0.97      7769\n",
      "weighted avg       0.98      0.98      0.98      7769\n",
      "\n"
     ]
    }
   ],
   "source": [
    "from nltk.corpus import stopwords\n",
    "nltk.download('stopwords')\n",
    "stopwords = stopwords.words('english')\n",
    "\n",
    "def get_BOW_lowered_no_stopwords(text):\n",
    "    BOW = {}\n",
    "    for word in text:\n",
    "        word = word.lower()\n",
    "        if word not in stopwords:\n",
    "            BOW[word] = BOW.get(word,0) + 1\n",
    "    return BOW\n",
    "\n",
    "trn_data,trn_classes,test_data,test_classes = prepare_reuters_data(\"acq\",get_BOW_lowered_no_stopwords)\n",
    "\n",
    "do_multiple_10foldcrossvalidation(clfs,trn_data,trn_classes)"
   ]
  },
  {
   "cell_type": "markdown",
   "metadata": {},
   "source": [
    "That did improve the performance of <i>k</i>NN by about 1% accuracy, but it is still the worst classifier. Gains for other classifiers were more modest, since the scores were already high, and those classifiers are more robust to feature noise.\n",
    "\n",
    "The random forest classifier is doing worse than its reputation would suggest. The default number of decision trees (n_estimators) used in the model is only 10, which is fairly low: lets see if we can find a better number..."
   ]
  },
  {
   "cell_type": "code",
   "execution_count": 9,
   "metadata": {},
   "outputs": [
    {
     "name": "stdout",
     "output_type": "stream",
     "text": [
      "RandomForestClassifier(n_estimators=10)\n",
      "accuracy\n",
      "0.9557214570729824\n",
      "              precision    recall  f1-score   support\n",
      "\n",
      "         acq       0.89      0.91      0.90      1650\n",
      "     not acq       0.97      0.97      0.97      6119\n",
      "\n",
      "    accuracy                           0.96      7769\n",
      "   macro avg       0.93      0.94      0.93      7769\n",
      "weighted avg       0.96      0.96      0.96      7769\n",
      "\n",
      "RandomForestClassifier(n_estimators=50)\n",
      "accuracy\n",
      "0.9637018921354099\n",
      "              precision    recall  f1-score   support\n",
      "\n",
      "         acq       0.93      0.89      0.91      1650\n",
      "     not acq       0.97      0.98      0.98      6119\n",
      "\n",
      "    accuracy                           0.96      7769\n",
      "   macro avg       0.95      0.94      0.94      7769\n",
      "weighted avg       0.96      0.96      0.96      7769\n",
      "\n",
      "RandomForestClassifier()\n",
      "accuracy\n",
      "0.9665336594156262\n",
      "              precision    recall  f1-score   support\n",
      "\n",
      "         acq       0.94      0.90      0.92      1650\n",
      "     not acq       0.97      0.98      0.98      6119\n",
      "\n",
      "    accuracy                           0.97      7769\n",
      "   macro avg       0.96      0.94      0.95      7769\n",
      "weighted avg       0.97      0.97      0.97      7769\n",
      "\n",
      "RandomForestClassifier(n_estimators=150)\n",
      "accuracy\n",
      "0.9682069764448449\n",
      "              precision    recall  f1-score   support\n",
      "\n",
      "         acq       0.94      0.91      0.92      1650\n",
      "     not acq       0.97      0.98      0.98      6119\n",
      "\n",
      "    accuracy                           0.97      7769\n",
      "   macro avg       0.96      0.95      0.95      7769\n",
      "weighted avg       0.97      0.97      0.97      7769\n",
      "\n"
     ]
    }
   ],
   "source": [
    "n_to_test = [10,50,100,150]\n",
    "rfs = [RandomForestClassifier(n_estimators=n) for n in n_to_test]\n",
    "do_multiple_10foldcrossvalidation(rfs,trn_data,trn_classes)\n"
   ]
  },
  {
   "cell_type": "markdown",
   "metadata": {},
   "source": [
    "Yup, more subclassifiers improved things, though the Random Forest classifier is still slightly inferior to the SVM and Logistic Regression classifiers in this BOW (i.e. large feature set) situation. \n",
    "\n",
    "Both SVM and Logistic Regression classifiers have a C parameter which controls the degree of regularization (lower C means more emphasis on regularization when optimising the model). Let's see if we can improve the performance of the Logistic Regression classifier by changing the C parameter from the default (1.0). For this parameter, a logrithmic scale is appropriate..."
   ]
  },
  {
   "cell_type": "code",
   "execution_count": 10,
   "metadata": {
    "collapsed": true
   },
   "outputs": [
    {
     "name": "stdout",
     "output_type": "stream",
     "text": [
      "LogisticRegression(C=0.001)\n",
      "accuracy\n",
      "0.9298494014673703\n",
      "              precision    recall  f1-score   support\n",
      "\n",
      "         acq       0.93      0.72      0.81      1650\n",
      "     not acq       0.93      0.99      0.96      6119\n",
      "\n",
      "    accuracy                           0.93      7769\n",
      "   macro avg       0.93      0.85      0.89      7769\n",
      "weighted avg       0.93      0.93      0.93      7769\n",
      "\n",
      "LogisticRegression(C=0.01)\n",
      "accuracy\n",
      "0.966919809499292\n",
      "              precision    recall  f1-score   support\n",
      "\n",
      "         acq       0.94      0.90      0.92      1650\n",
      "     not acq       0.97      0.99      0.98      6119\n",
      "\n",
      "    accuracy                           0.97      7769\n",
      "   macro avg       0.96      0.94      0.95      7769\n",
      "weighted avg       0.97      0.97      0.97      7769\n",
      "\n",
      "LogisticRegression(C=0.1)\n",
      "accuracy\n",
      "0.9769597116746042\n",
      "              precision    recall  f1-score   support\n",
      "\n",
      "         acq       0.95      0.94      0.95      1650\n",
      "     not acq       0.98      0.99      0.99      6119\n",
      "\n",
      "    accuracy                           0.98      7769\n",
      "   macro avg       0.97      0.96      0.97      7769\n",
      "weighted avg       0.98      0.98      0.98      7769\n",
      "\n",
      "LogisticRegression(C=1)\n",
      "accuracy\n",
      "0.9794053288711546\n",
      "              precision    recall  f1-score   support\n",
      "\n",
      "         acq       0.96      0.95      0.95      1650\n",
      "     not acq       0.99      0.99      0.99      6119\n",
      "\n",
      "    accuracy                           0.98      7769\n",
      "   macro avg       0.97      0.97      0.97      7769\n",
      "weighted avg       0.98      0.98      0.98      7769\n",
      "\n",
      "LogisticRegression(C=10)\n",
      "accuracy\n",
      "0.9797914789548204\n",
      "              precision    recall  f1-score   support\n",
      "\n",
      "         acq       0.96      0.95      0.95      1650\n",
      "     not acq       0.99      0.99      0.99      6119\n",
      "\n",
      "    accuracy                           0.98      7769\n",
      "   macro avg       0.97      0.97      0.97      7769\n",
      "weighted avg       0.98      0.98      0.98      7769\n",
      "\n",
      "LogisticRegression(C=100)\n",
      "accuracy\n",
      "0.9773458617582701\n",
      "              precision    recall  f1-score   support\n",
      "\n",
      "         acq       0.95      0.94      0.95      1650\n",
      "     not acq       0.98      0.99      0.99      6119\n",
      "\n",
      "    accuracy                           0.98      7769\n",
      "   macro avg       0.97      0.96      0.97      7769\n",
      "weighted avg       0.98      0.98      0.98      7769\n",
      "\n",
      "LogisticRegression(C=1000)\n",
      "accuracy\n",
      "0.9772171450637147\n",
      "              precision    recall  f1-score   support\n",
      "\n",
      "         acq       0.95      0.94      0.95      1650\n",
      "     not acq       0.98      0.99      0.99      6119\n",
      "\n",
      "    accuracy                           0.98      7769\n",
      "   macro avg       0.97      0.96      0.97      7769\n",
      "weighted avg       0.98      0.98      0.98      7769\n",
      "\n"
     ]
    }
   ],
   "source": [
    "c_to_test = [0.001,0.01,0.1,1,10,100, 1000]\n",
    "lrcs = [LogisticRegression(C=c) for c in c_to_test]\n",
    "do_multiple_10foldcrossvalidation(lrcs,trn_data,trn_classes)"
   ]
  },
  {
   "cell_type": "markdown",
   "metadata": {
    "collapsed": true
   },
   "source": [
    "In this case, changing the parameter from the default is not desirable. When training with fairly large datasets to solve a straightforward task with a simple classifier, the effect of regularization is often minimal.\n",
    "\n",
    "Under normal circumstances we might do more parameter tuning or feature selection (and we encourage you to play around), but let's just skip to testing the classifiers on the test set and displaying the results using matplotlib...."
   ]
  },
  {
   "cell_type": "code",
   "execution_count": 11,
   "metadata": {
    "collapsed": true,
    "scrolled": true
   },
   "outputs": [
    {
     "name": "stderr",
     "output_type": "stream",
     "text": [
      "c:\\Users\\10762\\anaconda3\\envs\\Python310\\lib\\site-packages\\sklearn\\svm\\_base.py:1249: ConvergenceWarning: Liblinear failed to converge, increase the number of iterations.\n",
      "  warnings.warn(\n"
     ]
    },
    {
     "name": "stdout",
     "output_type": "stream",
     "text": [
      "[0.9304405432262338, 0.941040079496522, 0.9715137462736005, 0.9738323948327261, 0.9814508115269956, 0.9837694600861212]\n"
     ]
    },
    {
     "data": {
      "image/png": "[encoded data removed]",
      "text/plain": [
       "<Figure size 640x480 with 1 Axes>"
      ]
     },
     "metadata": {},
     "output_type": "display_data"
    }
   ],
   "source": [
    "%matplotlib inline\n",
    "import matplotlib.pyplot as plt\n",
    "\n",
    "def test_and_graph(clfs,training_data,training_classifications,test_data,test_classifications):\n",
    "    accuracies = []\n",
    "    for clf in clfs:\n",
    "        clf.fit(training_data,training_classifications)\n",
    "        predictions = clf.predict(test_data)\n",
    "        accuracies.append(accuracy_score(test_classifications,predictions))\n",
    "    print (accuracies)\n",
    "    p = plt.bar([num + 0.25 for num in range(len(clfs))], accuracies,0.5)\n",
    "    plt.ylabel('Accuracy')\n",
    "    plt.title('Accuracy classifying acq topic in Reuters, by classifier')\n",
    "    plt.ylim([0.9,1])\n",
    "    plt.xticks([num + 0.5 for num in range(len(clfs))], ('kNN', 'DT', 'RF', 'NB', 'SVM', 'LR'))\n",
    "    plt.show()\n",
    "\n",
    "test_and_graph(clfs,trn_data,trn_classes,test_data,test_classes)"
   ]
  },
  {
   "cell_type": "markdown",
   "metadata": {},
   "source": [
    "The results are pretty close to what we saw using cross-validation, with Logistic Regression winning out over SVMs by a tiny margin, with an impressive accuracy of 98.3%."
   ]
  },
  {
   "cell_type": "code",
   "execution_count": null,
   "metadata": {
    "collapsed": true
   },
   "outputs": [],
   "source": []
  }
 ],
 "metadata": {
  "kernelspec": {
   "display_name": "Python310",
   "language": "python",
   "name": "python3"
  },
  "language_info": {
   "codemirror_mode": {
    "name": "ipython",
    "version": 3
   },
   "file_extension": ".py",
   "mimetype": "text/x-python",
   "name": "python",
   "nbconvert_exporter": "python",
   "pygments_lexer": "ipython3",
   "version": "3.10.16"
  }
 },
 "nbformat": 4,
 "nbformat_minor": 1
}
